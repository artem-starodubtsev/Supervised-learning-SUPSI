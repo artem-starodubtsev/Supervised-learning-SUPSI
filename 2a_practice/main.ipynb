{
 "cells": [
  {
   "cell_type": "code",
   "id": "initial_id",
   "metadata": {
    "collapsed": true,
    "ExecuteTime": {
     "end_time": "2025-09-25T09:45:14.915234Z",
     "start_time": "2025-09-25T09:45:14.911881Z"
    }
   },
   "source": [
    "import pandas as pd, numpy as np\n",
    "import matplotlib.pyplot as plt\n",
    "import sklearn as sk\n"
   ],
   "outputs": [],
   "execution_count": 106
  },
  {
   "metadata": {},
   "cell_type": "markdown",
   "source": "### Data preprocessing",
   "id": "3927adf74db18f5b"
  },
  {
   "metadata": {},
   "cell_type": "markdown",
   "source": "Loading datasets",
   "id": "b5eefa8f6b30619a"
  },
  {
   "metadata": {
    "ExecuteTime": {
     "end_time": "2025-09-25T09:45:14.939402Z",
     "start_time": "2025-09-25T09:45:14.918752Z"
    }
   },
   "cell_type": "code",
   "source": [
    "white_df = pd.read_csv('wine_white.csv')\n",
    "red_df = pd.read_csv('wine_red.csv')"
   ],
   "id": "1aba17cbc4fc8dd4",
   "outputs": [],
   "execution_count": 107
  },
  {
   "metadata": {},
   "cell_type": "markdown",
   "source": "Joining dataframes",
   "id": "7f9871c795ed6905"
  },
  {
   "metadata": {
    "ExecuteTime": {
     "end_time": "2025-09-25T09:45:14.967653Z",
     "start_time": "2025-09-25T09:45:14.960641Z"
    }
   },
   "cell_type": "code",
   "source": [
    "joined_df = pd.concat([white_df, red_df], ignore_index=True)\n",
    "print(f'Dataset size: {joined_df.shape[0]} with {joined_df.shape[1]-1} features (1 to be predicted)')"
   ],
   "id": "25e9de0196f85308",
   "outputs": [
    {
     "name": "stdout",
     "output_type": "stream",
     "text": [
      "Dataset size: 6497 with 12 features (1 to be predicted)\n"
     ]
    }
   ],
   "execution_count": 108
  },
  {
   "metadata": {},
   "cell_type": "markdown",
   "source": [
    "datatypes\n",
    "\n",
    "- 11 numerical\n",
    "- 2 categorical"
   ],
   "id": "a90cb1575c1b7b90"
  },
  {
   "metadata": {
    "ExecuteTime": {
     "end_time": "2025-09-25T09:45:14.991645Z",
     "start_time": "2025-09-25T09:45:14.987694Z"
    }
   },
   "cell_type": "code",
   "source": "print(joined_df.dtypes)",
   "id": "ffa0b3bc093cfd8a",
   "outputs": [
    {
     "name": "stdout",
     "output_type": "stream",
     "text": [
      "fixed acidity           float64\n",
      "volatile acidity        float64\n",
      "citric acid             float64\n",
      "residual sugar          float64\n",
      "chlorides               float64\n",
      "free sulfur dioxide     float64\n",
      "total sulfur dioxide    float64\n",
      "density                 float64\n",
      "pH                      float64\n",
      "sulphates               float64\n",
      "alcohol                 float64\n",
      "wine_type                object\n",
      "target                   object\n",
      "dtype: object\n"
     ]
    }
   ],
   "execution_count": 109
  },
  {
   "metadata": {},
   "cell_type": "markdown",
   "source": "let's check categorical values",
   "id": "dfb93cf5f08b21e7"
  },
  {
   "metadata": {
    "ExecuteTime": {
     "end_time": "2025-09-25T09:45:15.027822Z",
     "start_time": "2025-09-25T09:45:15.020044Z"
    }
   },
   "cell_type": "code",
   "source": [
    "print(f'Categories count:\\n{joined_df[['wine_type', 'target']].nunique()}\\n')\n",
    "print(f'Wine types:\\n{joined_df['wine_type'].dropna().unique()}\\n')\n",
    "print(f'Target types:\\n{joined_df['target'].dropna().unique()}\\n')"
   ],
   "id": "3bd6a73e5e34d236",
   "outputs": [
    {
     "name": "stdout",
     "output_type": "stream",
     "text": [
      "Categories count:\n",
      "wine_type    2\n",
      "target       5\n",
      "dtype: int64\n",
      "\n",
      "Wine types:\n",
      "['white' 'red']\n",
      "\n",
      "Target types:\n",
      "['B' 'C' 'A' 'D' '9']\n",
      "\n"
     ]
    }
   ],
   "execution_count": 110
  },
  {
   "metadata": {},
   "cell_type": "markdown",
   "source": "We can cast ``wine_type`` to ``is_red``\n",
   "id": "dc6cb79b2bb581ff"
  },
  {
   "metadata": {
    "ExecuteTime": {
     "end_time": "2025-09-25T09:45:15.122533Z",
     "start_time": "2025-09-25T09:45:15.116636Z"
    }
   },
   "cell_type": "code",
   "source": [
    "joined_df['wine_type'] = joined_df['wine_type'].apply(lambda x: 1 if x == 'red' else 0 if x else None)\n",
    "joined_df.rename(columns={'wine_type': 'is_red'}, inplace=True)"
   ],
   "id": "e6998efbe8a09eb0",
   "outputs": [],
   "execution_count": 111
  },
  {
   "metadata": {},
   "cell_type": "markdown",
   "source": [
    "With ``target`` we need to understand what ``9`` means\n",
    "\n",
    "``A`` to ``D`` ordinal is obvious (from best to worst)"
   ],
   "id": "5ff068e6ccf45309"
  },
  {
   "metadata": {
    "ExecuteTime": {
     "end_time": "2025-09-25T09:48:44.965143Z",
     "start_time": "2025-09-25T09:48:44.938124Z"
    }
   },
   "cell_type": "code",
   "source": "joined_df.describe()",
   "id": "43111790319f5732",
   "outputs": [
    {
     "data": {
      "text/plain": [
       "       fixed acidity  volatile acidity  citric acid  residual sugar  \\\n",
       "count    6497.000000       6183.000000  6497.000000     6497.000000   \n",
       "mean        7.215307          0.339992     0.318633        5.443235   \n",
       "std         1.296434          0.165178     0.145318        4.757804   \n",
       "min         3.800000          0.080000     0.000000        0.600000   \n",
       "25%         6.400000          0.230000     0.250000        1.800000   \n",
       "50%         7.000000          0.290000     0.310000        3.000000   \n",
       "75%         7.700000          0.400000     0.390000        8.100000   \n",
       "max        15.900000          1.580000     1.660000       65.800000   \n",
       "\n",
       "         chlorides  free sulfur dioxide  total sulfur dioxide      density  \\\n",
       "count  6497.000000          6171.000000           6497.000000  6497.000000   \n",
       "mean      0.056034            30.521958            115.744574     0.994697   \n",
       "std       0.035034            17.766855             56.521855     0.002999   \n",
       "min       0.009000             1.000000              6.000000     0.987110   \n",
       "25%       0.038000            17.000000             77.000000     0.992340   \n",
       "50%       0.047000            29.000000            118.000000     0.994890   \n",
       "75%       0.065000            41.000000            156.000000     0.996990   \n",
       "max       0.611000           289.000000            440.000000     1.038980   \n",
       "\n",
       "                pH    sulphates      alcohol       is_red  \n",
       "count  6497.000000  6497.000000  6497.000000  6497.000000  \n",
       "mean      3.218501     0.531268    10.491801     0.232415  \n",
       "std       0.160787     0.148806     1.192712     0.422405  \n",
       "min       2.720000     0.220000     8.000000     0.000000  \n",
       "25%       3.110000     0.430000     9.500000     0.000000  \n",
       "50%       3.210000     0.510000    10.300000     0.000000  \n",
       "75%       3.320000     0.600000    11.300000     0.000000  \n",
       "max       4.010000     2.000000    14.900000     1.000000  "
      ],
      "text/html": [
       "<div>\n",
       "<style scoped>\n",
       "    .dataframe tbody tr th:only-of-type {\n",
       "        vertical-align: middle;\n",
       "    }\n",
       "\n",
       "    .dataframe tbody tr th {\n",
       "        vertical-align: top;\n",
       "    }\n",
       "\n",
       "    .dataframe thead th {\n",
       "        text-align: right;\n",
       "    }\n",
       "</style>\n",
       "<table border=\"1\" class=\"dataframe\">\n",
       "  <thead>\n",
       "    <tr style=\"text-align: right;\">\n",
       "      <th></th>\n",
       "      <th>fixed acidity</th>\n",
       "      <th>volatile acidity</th>\n",
       "      <th>citric acid</th>\n",
       "      <th>residual sugar</th>\n",
       "      <th>chlorides</th>\n",
       "      <th>free sulfur dioxide</th>\n",
       "      <th>total sulfur dioxide</th>\n",
       "      <th>density</th>\n",
       "      <th>pH</th>\n",
       "      <th>sulphates</th>\n",
       "      <th>alcohol</th>\n",
       "      <th>is_red</th>\n",
       "    </tr>\n",
       "  </thead>\n",
       "  <tbody>\n",
       "    <tr>\n",
       "      <th>count</th>\n",
       "      <td>6497.000000</td>\n",
       "      <td>6183.000000</td>\n",
       "      <td>6497.000000</td>\n",
       "      <td>6497.000000</td>\n",
       "      <td>6497.000000</td>\n",
       "      <td>6171.000000</td>\n",
       "      <td>6497.000000</td>\n",
       "      <td>6497.000000</td>\n",
       "      <td>6497.000000</td>\n",
       "      <td>6497.000000</td>\n",
       "      <td>6497.000000</td>\n",
       "      <td>6497.000000</td>\n",
       "    </tr>\n",
       "    <tr>\n",
       "      <th>mean</th>\n",
       "      <td>7.215307</td>\n",
       "      <td>0.339992</td>\n",
       "      <td>0.318633</td>\n",
       "      <td>5.443235</td>\n",
       "      <td>0.056034</td>\n",
       "      <td>30.521958</td>\n",
       "      <td>115.744574</td>\n",
       "      <td>0.994697</td>\n",
       "      <td>3.218501</td>\n",
       "      <td>0.531268</td>\n",
       "      <td>10.491801</td>\n",
       "      <td>0.232415</td>\n",
       "    </tr>\n",
       "    <tr>\n",
       "      <th>std</th>\n",
       "      <td>1.296434</td>\n",
       "      <td>0.165178</td>\n",
       "      <td>0.145318</td>\n",
       "      <td>4.757804</td>\n",
       "      <td>0.035034</td>\n",
       "      <td>17.766855</td>\n",
       "      <td>56.521855</td>\n",
       "      <td>0.002999</td>\n",
       "      <td>0.160787</td>\n",
       "      <td>0.148806</td>\n",
       "      <td>1.192712</td>\n",
       "      <td>0.422405</td>\n",
       "    </tr>\n",
       "    <tr>\n",
       "      <th>min</th>\n",
       "      <td>3.800000</td>\n",
       "      <td>0.080000</td>\n",
       "      <td>0.000000</td>\n",
       "      <td>0.600000</td>\n",
       "      <td>0.009000</td>\n",
       "      <td>1.000000</td>\n",
       "      <td>6.000000</td>\n",
       "      <td>0.987110</td>\n",
       "      <td>2.720000</td>\n",
       "      <td>0.220000</td>\n",
       "      <td>8.000000</td>\n",
       "      <td>0.000000</td>\n",
       "    </tr>\n",
       "    <tr>\n",
       "      <th>25%</th>\n",
       "      <td>6.400000</td>\n",
       "      <td>0.230000</td>\n",
       "      <td>0.250000</td>\n",
       "      <td>1.800000</td>\n",
       "      <td>0.038000</td>\n",
       "      <td>17.000000</td>\n",
       "      <td>77.000000</td>\n",
       "      <td>0.992340</td>\n",
       "      <td>3.110000</td>\n",
       "      <td>0.430000</td>\n",
       "      <td>9.500000</td>\n",
       "      <td>0.000000</td>\n",
       "    </tr>\n",
       "    <tr>\n",
       "      <th>50%</th>\n",
       "      <td>7.000000</td>\n",
       "      <td>0.290000</td>\n",
       "      <td>0.310000</td>\n",
       "      <td>3.000000</td>\n",
       "      <td>0.047000</td>\n",
       "      <td>29.000000</td>\n",
       "      <td>118.000000</td>\n",
       "      <td>0.994890</td>\n",
       "      <td>3.210000</td>\n",
       "      <td>0.510000</td>\n",
       "      <td>10.300000</td>\n",
       "      <td>0.000000</td>\n",
       "    </tr>\n",
       "    <tr>\n",
       "      <th>75%</th>\n",
       "      <td>7.700000</td>\n",
       "      <td>0.400000</td>\n",
       "      <td>0.390000</td>\n",
       "      <td>8.100000</td>\n",
       "      <td>0.065000</td>\n",
       "      <td>41.000000</td>\n",
       "      <td>156.000000</td>\n",
       "      <td>0.996990</td>\n",
       "      <td>3.320000</td>\n",
       "      <td>0.600000</td>\n",
       "      <td>11.300000</td>\n",
       "      <td>0.000000</td>\n",
       "    </tr>\n",
       "    <tr>\n",
       "      <th>max</th>\n",
       "      <td>15.900000</td>\n",
       "      <td>1.580000</td>\n",
       "      <td>1.660000</td>\n",
       "      <td>65.800000</td>\n",
       "      <td>0.611000</td>\n",
       "      <td>289.000000</td>\n",
       "      <td>440.000000</td>\n",
       "      <td>1.038980</td>\n",
       "      <td>4.010000</td>\n",
       "      <td>2.000000</td>\n",
       "      <td>14.900000</td>\n",
       "      <td>1.000000</td>\n",
       "    </tr>\n",
       "  </tbody>\n",
       "</table>\n",
       "</div>"
      ]
     },
     "execution_count": 119,
     "metadata": {},
     "output_type": "execute_result"
    }
   ],
   "execution_count": 119
  },
  {
   "metadata": {
    "ExecuteTime": {
     "end_time": "2025-09-25T09:48:26.660439Z",
     "start_time": "2025-09-25T09:48:26.646134Z"
    }
   },
   "cell_type": "code",
   "source": "joined_df[joined_df['target'] == '9']",
   "id": "2f9ba2efb50b6800",
   "outputs": [
    {
     "data": {
      "text/plain": [
       "      fixed acidity  volatile acidity  citric acid  residual sugar  chlorides  \\\n",
       "774             9.1              0.27         0.45            10.6      0.035   \n",
       "820             6.6              0.36         0.29             1.6      0.021   \n",
       "827             7.4              0.24         0.36             2.0      0.031   \n",
       "876             6.9              0.36         0.34             4.2      0.018   \n",
       "1605            7.1              0.26         0.49             2.2      0.032   \n",
       "\n",
       "      free sulfur dioxide  total sulfur dioxide  density    pH  sulphates  \\\n",
       "774                  28.0                 124.0  0.99700  3.20       0.46   \n",
       "820                  24.0                  85.0  0.98965  3.41       0.61   \n",
       "827                  27.0                 139.0  0.99055  3.28       0.48   \n",
       "876                  57.0                 119.0  0.98980  3.28       0.36   \n",
       "1605                 31.0                 113.0  0.99030  3.37       0.42   \n",
       "\n",
       "      alcohol  is_red target  \n",
       "774      10.4       0      9  \n",
       "820      12.4       0      9  \n",
       "827      12.5       0      9  \n",
       "876      12.7       0      9  \n",
       "1605     12.9       0      9  "
      ],
      "text/html": [
       "<div>\n",
       "<style scoped>\n",
       "    .dataframe tbody tr th:only-of-type {\n",
       "        vertical-align: middle;\n",
       "    }\n",
       "\n",
       "    .dataframe tbody tr th {\n",
       "        vertical-align: top;\n",
       "    }\n",
       "\n",
       "    .dataframe thead th {\n",
       "        text-align: right;\n",
       "    }\n",
       "</style>\n",
       "<table border=\"1\" class=\"dataframe\">\n",
       "  <thead>\n",
       "    <tr style=\"text-align: right;\">\n",
       "      <th></th>\n",
       "      <th>fixed acidity</th>\n",
       "      <th>volatile acidity</th>\n",
       "      <th>citric acid</th>\n",
       "      <th>residual sugar</th>\n",
       "      <th>chlorides</th>\n",
       "      <th>free sulfur dioxide</th>\n",
       "      <th>total sulfur dioxide</th>\n",
       "      <th>density</th>\n",
       "      <th>pH</th>\n",
       "      <th>sulphates</th>\n",
       "      <th>alcohol</th>\n",
       "      <th>is_red</th>\n",
       "      <th>target</th>\n",
       "    </tr>\n",
       "  </thead>\n",
       "  <tbody>\n",
       "    <tr>\n",
       "      <th>774</th>\n",
       "      <td>9.1</td>\n",
       "      <td>0.27</td>\n",
       "      <td>0.45</td>\n",
       "      <td>10.6</td>\n",
       "      <td>0.035</td>\n",
       "      <td>28.0</td>\n",
       "      <td>124.0</td>\n",
       "      <td>0.99700</td>\n",
       "      <td>3.20</td>\n",
       "      <td>0.46</td>\n",
       "      <td>10.4</td>\n",
       "      <td>0</td>\n",
       "      <td>9</td>\n",
       "    </tr>\n",
       "    <tr>\n",
       "      <th>820</th>\n",
       "      <td>6.6</td>\n",
       "      <td>0.36</td>\n",
       "      <td>0.29</td>\n",
       "      <td>1.6</td>\n",
       "      <td>0.021</td>\n",
       "      <td>24.0</td>\n",
       "      <td>85.0</td>\n",
       "      <td>0.98965</td>\n",
       "      <td>3.41</td>\n",
       "      <td>0.61</td>\n",
       "      <td>12.4</td>\n",
       "      <td>0</td>\n",
       "      <td>9</td>\n",
       "    </tr>\n",
       "    <tr>\n",
       "      <th>827</th>\n",
       "      <td>7.4</td>\n",
       "      <td>0.24</td>\n",
       "      <td>0.36</td>\n",
       "      <td>2.0</td>\n",
       "      <td>0.031</td>\n",
       "      <td>27.0</td>\n",
       "      <td>139.0</td>\n",
       "      <td>0.99055</td>\n",
       "      <td>3.28</td>\n",
       "      <td>0.48</td>\n",
       "      <td>12.5</td>\n",
       "      <td>0</td>\n",
       "      <td>9</td>\n",
       "    </tr>\n",
       "    <tr>\n",
       "      <th>876</th>\n",
       "      <td>6.9</td>\n",
       "      <td>0.36</td>\n",
       "      <td>0.34</td>\n",
       "      <td>4.2</td>\n",
       "      <td>0.018</td>\n",
       "      <td>57.0</td>\n",
       "      <td>119.0</td>\n",
       "      <td>0.98980</td>\n",
       "      <td>3.28</td>\n",
       "      <td>0.36</td>\n",
       "      <td>12.7</td>\n",
       "      <td>0</td>\n",
       "      <td>9</td>\n",
       "    </tr>\n",
       "    <tr>\n",
       "      <th>1605</th>\n",
       "      <td>7.1</td>\n",
       "      <td>0.26</td>\n",
       "      <td>0.49</td>\n",
       "      <td>2.2</td>\n",
       "      <td>0.032</td>\n",
       "      <td>31.0</td>\n",
       "      <td>113.0</td>\n",
       "      <td>0.99030</td>\n",
       "      <td>3.37</td>\n",
       "      <td>0.42</td>\n",
       "      <td>12.9</td>\n",
       "      <td>0</td>\n",
       "      <td>9</td>\n",
       "    </tr>\n",
       "  </tbody>\n",
       "</table>\n",
       "</div>"
      ]
     },
     "execution_count": 118,
     "metadata": {},
     "output_type": "execute_result"
    }
   ],
   "execution_count": 118
  },
  {
   "metadata": {},
   "cell_type": "markdown",
   "source": "Data missing values check",
   "id": "ebc9301001737eee"
  },
  {
   "metadata": {
    "ExecuteTime": {
     "end_time": "2025-09-25T09:45:15.249227Z",
     "start_time": "2025-09-25T09:45:15.244201Z"
    }
   },
   "cell_type": "code",
   "source": "print(joined_df.isna().sum())",
   "id": "10ffbf8e63dd7742",
   "outputs": [
    {
     "name": "stdout",
     "output_type": "stream",
     "text": [
      "fixed acidity             0\n",
      "volatile acidity        314\n",
      "citric acid               0\n",
      "residual sugar            0\n",
      "chlorides                 0\n",
      "free sulfur dioxide     326\n",
      "total sulfur dioxide      0\n",
      "density                   0\n",
      "pH                        0\n",
      "sulphates                 0\n",
      "alcohol                   0\n",
      "is_red                    0\n",
      "target                    0\n",
      "dtype: int64\n"
     ]
    }
   ],
   "execution_count": 113
  },
  {
   "metadata": {},
   "cell_type": "markdown",
   "source": "We have 3 columns with missing values, let's check if we should drop those columns, and if not let's fill those NaN using",
   "id": "374c62438c04816f"
  },
  {
   "metadata": {},
   "cell_type": "markdown",
   "source": [
    "Let's say a ``threshold`` is 0.7 and if column or row contains less data than ``threshold`` we will drop it\n",
    "\n",
    "N.B. as we have 12 + 1 features and only 3 columns with missing values =>\n",
    "\n",
    "in worst case scenario when row would contain all 3 missing values (12-3)/12 == 0.75 which is bigger than ``threshold`` =>\n",
    "\n",
    "no rows check\n",
    "\n",
    "same with columns max column NaN count is 331. (6497-331)/6497 == ~0.949 which is bigger than ``threshold`` =>\n",
    "\n",
    "no column check"
   ],
   "id": "ebad92dbbcc55995"
  },
  {
   "metadata": {
    "ExecuteTime": {
     "end_time": "2025-09-25T09:45:15.295386Z",
     "start_time": "2025-09-25T09:45:15.290216Z"
    }
   },
   "cell_type": "code",
   "source": "joined_df.columns[joined_df.isna().sum().to_numpy().nonzero()]",
   "id": "28230d5ddada368c",
   "outputs": [
    {
     "data": {
      "text/plain": [
       "Index(['volatile acidity', 'free sulfur dioxide'], dtype='object')"
      ]
     },
     "execution_count": 114,
     "metadata": {},
     "output_type": "execute_result"
    }
   ],
   "execution_count": 114
  },
  {
   "metadata": {},
   "cell_type": "markdown",
   "source": "### Handling missing values",
   "id": "a85e524d5c8bc723"
  },
  {
   "metadata": {},
   "cell_type": "markdown",
   "source": "Let's use ``KNNImputer`` from ``skleran``",
   "id": "e185ccd8652d89b8"
  },
  {
   "metadata": {
    "ExecuteTime": {
     "end_time": "2025-09-25T09:45:15.398309Z",
     "start_time": "2025-09-25T09:45:15.357384Z"
    }
   },
   "cell_type": "code",
   "source": [
    "knn_inputer = sk.impute.KNNImputer(n_neighbors=10, weights='distance')\n",
    "knn_inputer.fit_transform(joined_df)"
   ],
   "id": "4b447b808e347791",
   "outputs": [
    {
     "ename": "ValueError",
     "evalue": "could not convert string to float: 'B'",
     "output_type": "error",
     "traceback": [
      "\u001B[31m---------------------------------------------------------------------------\u001B[39m",
      "\u001B[31mValueError\u001B[39m                                Traceback (most recent call last)",
      "\u001B[32m~\\AppData\\Local\\Temp\\ipykernel_3456\\1512154947.py\u001B[39m in \u001B[36m?\u001B[39m\u001B[34m()\u001B[39m\n\u001B[32m      1\u001B[39m knn_inputer = sk.impute.KNNImputer(n_neighbors=\u001B[32m10\u001B[39m, weights=\u001B[33m'distance'\u001B[39m)\n\u001B[32m----> \u001B[39m\u001B[32m2\u001B[39m knn_inputer.fit_transform(joined_df)\n",
      "\u001B[32m~\\anaconda3\\envs\\ds\\Lib\\site-packages\\sklearn\\utils\\_set_output.py\u001B[39m in \u001B[36m?\u001B[39m\u001B[34m(self, X, *args, **kwargs)\u001B[39m\n\u001B[32m    314\u001B[39m     @wraps(f)\n\u001B[32m    315\u001B[39m     \u001B[38;5;28;01mdef\u001B[39;00m wrapped(self, X, *args, **kwargs):\n\u001B[32m--> \u001B[39m\u001B[32m316\u001B[39m         data_to_wrap = f(self, X, *args, **kwargs)\n\u001B[32m    317\u001B[39m         \u001B[38;5;28;01mif\u001B[39;00m isinstance(data_to_wrap, tuple):\n\u001B[32m    318\u001B[39m             \u001B[38;5;66;03m# only wrap the first output for cross decomposition\u001B[39;00m\n\u001B[32m    319\u001B[39m             return_tuple = (\n",
      "\u001B[32m~\\anaconda3\\envs\\ds\\Lib\\site-packages\\sklearn\\base.py\u001B[39m in \u001B[36m?\u001B[39m\u001B[34m(self, X, y, **fit_params)\u001B[39m\n\u001B[32m    890\u001B[39m                 )\n\u001B[32m    891\u001B[39m \n\u001B[32m    892\u001B[39m         \u001B[38;5;28;01mif\u001B[39;00m y \u001B[38;5;28;01mis\u001B[39;00m \u001B[38;5;28;01mNone\u001B[39;00m:\n\u001B[32m    893\u001B[39m             \u001B[38;5;66;03m# fit method of arity 1 (unsupervised transformation)\u001B[39;00m\n\u001B[32m--> \u001B[39m\u001B[32m894\u001B[39m             \u001B[38;5;28;01mreturn\u001B[39;00m self.fit(X, **fit_params).transform(X)\n\u001B[32m    895\u001B[39m         \u001B[38;5;28;01melse\u001B[39;00m:\n\u001B[32m    896\u001B[39m             \u001B[38;5;66;03m# fit method of arity 2 (supervised transformation)\u001B[39;00m\n\u001B[32m    897\u001B[39m             \u001B[38;5;28;01mreturn\u001B[39;00m self.fit(X, y, **fit_params).transform(X)\n",
      "\u001B[32m~\\anaconda3\\envs\\ds\\Lib\\site-packages\\sklearn\\base.py\u001B[39m in \u001B[36m?\u001B[39m\u001B[34m(estimator, *args, **kwargs)\u001B[39m\n\u001B[32m   1361\u001B[39m                 skip_parameter_validation=(\n\u001B[32m   1362\u001B[39m                     prefer_skip_nested_validation \u001B[38;5;28;01mor\u001B[39;00m global_skip_validation\n\u001B[32m   1363\u001B[39m                 )\n\u001B[32m   1364\u001B[39m             ):\n\u001B[32m-> \u001B[39m\u001B[32m1365\u001B[39m                 \u001B[38;5;28;01mreturn\u001B[39;00m fit_method(estimator, *args, **kwargs)\n",
      "\u001B[32m~\\anaconda3\\envs\\ds\\Lib\\site-packages\\sklearn\\impute\\_knn.py\u001B[39m in \u001B[36m?\u001B[39m\u001B[34m(self, X, y)\u001B[39m\n\u001B[32m    233\u001B[39m             ensure_all_finite = \u001B[38;5;28;01mTrue\u001B[39;00m\n\u001B[32m    234\u001B[39m         \u001B[38;5;28;01melse\u001B[39;00m:\n\u001B[32m    235\u001B[39m             ensure_all_finite = \u001B[33m\"allow-nan\"\u001B[39m\n\u001B[32m    236\u001B[39m \n\u001B[32m--> \u001B[39m\u001B[32m237\u001B[39m         X = validate_data(\n\u001B[32m    238\u001B[39m             self,\n\u001B[32m    239\u001B[39m             X,\n\u001B[32m    240\u001B[39m             accept_sparse=\u001B[38;5;28;01mFalse\u001B[39;00m,\n",
      "\u001B[32m~\\anaconda3\\envs\\ds\\Lib\\site-packages\\sklearn\\utils\\validation.py\u001B[39m in \u001B[36m?\u001B[39m\u001B[34m(_estimator, X, y, reset, validate_separately, skip_check_array, **check_params)\u001B[39m\n\u001B[32m   2950\u001B[39m             out = y\n\u001B[32m   2951\u001B[39m         \u001B[38;5;28;01melse\u001B[39;00m:\n\u001B[32m   2952\u001B[39m             out = X, y\n\u001B[32m   2953\u001B[39m     \u001B[38;5;28;01melif\u001B[39;00m \u001B[38;5;28;01mnot\u001B[39;00m no_val_X \u001B[38;5;28;01mand\u001B[39;00m no_val_y:\n\u001B[32m-> \u001B[39m\u001B[32m2954\u001B[39m         out = check_array(X, input_name=\u001B[33m\"X\"\u001B[39m, **check_params)\n\u001B[32m   2955\u001B[39m     \u001B[38;5;28;01melif\u001B[39;00m no_val_X \u001B[38;5;28;01mand\u001B[39;00m \u001B[38;5;28;01mnot\u001B[39;00m no_val_y:\n\u001B[32m   2956\u001B[39m         out = _check_y(y, **check_params)\n\u001B[32m   2957\u001B[39m     \u001B[38;5;28;01melse\u001B[39;00m:\n",
      "\u001B[32m~\\anaconda3\\envs\\ds\\Lib\\site-packages\\sklearn\\utils\\validation.py\u001B[39m in \u001B[36m?\u001B[39m\u001B[34m(array, accept_sparse, accept_large_sparse, dtype, order, copy, force_writeable, force_all_finite, ensure_all_finite, ensure_non_negative, ensure_2d, allow_nd, ensure_min_samples, ensure_min_features, estimator, input_name)\u001B[39m\n\u001B[32m   1050\u001B[39m                         )\n\u001B[32m   1051\u001B[39m                     array = xp.astype(array, dtype, copy=\u001B[38;5;28;01mFalse\u001B[39;00m)\n\u001B[32m   1052\u001B[39m                 \u001B[38;5;28;01melse\u001B[39;00m:\n\u001B[32m   1053\u001B[39m                     array = _asarray_with_order(array, order=order, dtype=dtype, xp=xp)\n\u001B[32m-> \u001B[39m\u001B[32m1054\u001B[39m             \u001B[38;5;28;01mexcept\u001B[39;00m ComplexWarning \u001B[38;5;28;01mas\u001B[39;00m complex_warning:\n\u001B[32m   1055\u001B[39m                 raise ValueError(\n\u001B[32m   1056\u001B[39m                     \u001B[33m\"Complex data not supported\\n{}\\n\"\u001B[39m.format(array)\n\u001B[32m   1057\u001B[39m                 ) \u001B[38;5;28;01mfrom\u001B[39;00m complex_warning\n",
      "\u001B[32m~\\anaconda3\\envs\\ds\\Lib\\site-packages\\sklearn\\utils\\_array_api.py\u001B[39m in \u001B[36m?\u001B[39m\u001B[34m(array, dtype, order, copy, xp, device)\u001B[39m\n\u001B[32m    753\u001B[39m         \u001B[38;5;66;03m# Use NumPy API to support order\u001B[39;00m\n\u001B[32m    754\u001B[39m         \u001B[38;5;28;01mif\u001B[39;00m copy \u001B[38;5;28;01mis\u001B[39;00m \u001B[38;5;28;01mTrue\u001B[39;00m:\n\u001B[32m    755\u001B[39m             array = numpy.array(array, order=order, dtype=dtype)\n\u001B[32m    756\u001B[39m         \u001B[38;5;28;01melse\u001B[39;00m:\n\u001B[32m--> \u001B[39m\u001B[32m757\u001B[39m             array = numpy.asarray(array, order=order, dtype=dtype)\n\u001B[32m    758\u001B[39m \n\u001B[32m    759\u001B[39m         \u001B[38;5;66;03m# At this point array is a NumPy ndarray. We convert it to an array\u001B[39;00m\n\u001B[32m    760\u001B[39m         \u001B[38;5;66;03m# container that is consistent with the input's namespace.\u001B[39;00m\n",
      "\u001B[32m~\\anaconda3\\envs\\ds\\Lib\\site-packages\\pandas\\core\\generic.py\u001B[39m in \u001B[36m?\u001B[39m\u001B[34m(self, dtype, copy)\u001B[39m\n\u001B[32m   2164\u001B[39m             )\n\u001B[32m   2165\u001B[39m         values = self._values\n\u001B[32m   2166\u001B[39m         \u001B[38;5;28;01mif\u001B[39;00m copy \u001B[38;5;28;01mis\u001B[39;00m \u001B[38;5;28;01mNone\u001B[39;00m:\n\u001B[32m   2167\u001B[39m             \u001B[38;5;66;03m# Note: branch avoids `copy=None` for NumPy 1.x support\u001B[39;00m\n\u001B[32m-> \u001B[39m\u001B[32m2168\u001B[39m             arr = np.asarray(values, dtype=dtype)\n\u001B[32m   2169\u001B[39m         \u001B[38;5;28;01melse\u001B[39;00m:\n\u001B[32m   2170\u001B[39m             arr = np.array(values, dtype=dtype, copy=copy)\n\u001B[32m   2171\u001B[39m \n",
      "\u001B[31mValueError\u001B[39m: could not convert string to float: 'B'"
     ]
    }
   ],
   "execution_count": 115
  },
  {
   "metadata": {},
   "cell_type": "markdown",
   "source": "First and last 5 items in joined dataset",
   "id": "50d752b04a2a2a29"
  },
  {
   "metadata": {
    "ExecuteTime": {
     "end_time": "2025-09-25T09:45:15.402312500Z",
     "start_time": "2025-09-25T09:08:17.781999Z"
    }
   },
   "cell_type": "code",
   "source": "pd.concat([joined_df.head(5), joined_df.tail(5)], ignore_index=True)",
   "id": "ca7c028d35a48582",
   "outputs": [
    {
     "data": {
      "text/plain": [
       "   fixed acidity  volatile acidity  citric acid  residual sugar  chlorides  \\\n",
       "0            7.0             0.270         0.36            20.7      0.045   \n",
       "1            6.3             0.300         0.34             1.6      0.049   \n",
       "2            8.1             0.280         0.40             6.9      0.050   \n",
       "3            7.2             0.230         0.32             8.5      0.058   \n",
       "4            7.2             0.230         0.32             8.5      0.058   \n",
       "5            6.2             0.600         0.08             2.0      0.090   \n",
       "6            5.9             0.550         0.10             2.2      0.062   \n",
       "7            6.3             0.510         0.13             2.3      0.076   \n",
       "8            5.9             0.645         0.12             2.0      0.075   \n",
       "9            6.0             0.310         0.47             3.6      0.067   \n",
       "\n",
       "   free sulfur dioxide  total sulfur dioxide  density    pH  sulphates  \\\n",
       "0                 45.0                 170.0  1.00100  3.00       0.45   \n",
       "1                 14.0                 132.0  0.99400  3.30       0.49   \n",
       "2                 30.0                  97.0  0.99510  3.26       0.44   \n",
       "3                 47.0                 186.0  0.99560  3.19       0.40   \n",
       "4                 47.0                 186.0  0.99560  3.19       0.40   \n",
       "5                 32.0                  44.0  0.99490  3.45       0.58   \n",
       "6                 39.0                  51.0  0.99512  3.52       0.76   \n",
       "7                 29.0                  40.0  0.99574  3.42       0.75   \n",
       "8                 32.0                  44.0  0.99547  3.57       0.71   \n",
       "9                 18.0                  42.0  0.99549  3.39       0.66   \n",
       "\n",
       "   alcohol wine_type target  \n",
       "0      8.8     white      B  \n",
       "1      9.5     white      B  \n",
       "2     10.1     white      B  \n",
       "3      9.9     white      B  \n",
       "4      9.9     white      B  \n",
       "5     10.5       red      C  \n",
       "6     11.2       red      B  \n",
       "7     11.0       red      B  \n",
       "8     10.2       red      C  \n",
       "9     11.0       red      B  "
      ],
      "text/html": [
       "<div>\n",
       "<style scoped>\n",
       "    .dataframe tbody tr th:only-of-type {\n",
       "        vertical-align: middle;\n",
       "    }\n",
       "\n",
       "    .dataframe tbody tr th {\n",
       "        vertical-align: top;\n",
       "    }\n",
       "\n",
       "    .dataframe thead th {\n",
       "        text-align: right;\n",
       "    }\n",
       "</style>\n",
       "<table border=\"1\" class=\"dataframe\">\n",
       "  <thead>\n",
       "    <tr style=\"text-align: right;\">\n",
       "      <th></th>\n",
       "      <th>fixed acidity</th>\n",
       "      <th>volatile acidity</th>\n",
       "      <th>citric acid</th>\n",
       "      <th>residual sugar</th>\n",
       "      <th>chlorides</th>\n",
       "      <th>free sulfur dioxide</th>\n",
       "      <th>total sulfur dioxide</th>\n",
       "      <th>density</th>\n",
       "      <th>pH</th>\n",
       "      <th>sulphates</th>\n",
       "      <th>alcohol</th>\n",
       "      <th>wine_type</th>\n",
       "      <th>target</th>\n",
       "    </tr>\n",
       "  </thead>\n",
       "  <tbody>\n",
       "    <tr>\n",
       "      <th>0</th>\n",
       "      <td>7.0</td>\n",
       "      <td>0.270</td>\n",
       "      <td>0.36</td>\n",
       "      <td>20.7</td>\n",
       "      <td>0.045</td>\n",
       "      <td>45.0</td>\n",
       "      <td>170.0</td>\n",
       "      <td>1.00100</td>\n",
       "      <td>3.00</td>\n",
       "      <td>0.45</td>\n",
       "      <td>8.8</td>\n",
       "      <td>white</td>\n",
       "      <td>B</td>\n",
       "    </tr>\n",
       "    <tr>\n",
       "      <th>1</th>\n",
       "      <td>6.3</td>\n",
       "      <td>0.300</td>\n",
       "      <td>0.34</td>\n",
       "      <td>1.6</td>\n",
       "      <td>0.049</td>\n",
       "      <td>14.0</td>\n",
       "      <td>132.0</td>\n",
       "      <td>0.99400</td>\n",
       "      <td>3.30</td>\n",
       "      <td>0.49</td>\n",
       "      <td>9.5</td>\n",
       "      <td>white</td>\n",
       "      <td>B</td>\n",
       "    </tr>\n",
       "    <tr>\n",
       "      <th>2</th>\n",
       "      <td>8.1</td>\n",
       "      <td>0.280</td>\n",
       "      <td>0.40</td>\n",
       "      <td>6.9</td>\n",
       "      <td>0.050</td>\n",
       "      <td>30.0</td>\n",
       "      <td>97.0</td>\n",
       "      <td>0.99510</td>\n",
       "      <td>3.26</td>\n",
       "      <td>0.44</td>\n",
       "      <td>10.1</td>\n",
       "      <td>white</td>\n",
       "      <td>B</td>\n",
       "    </tr>\n",
       "    <tr>\n",
       "      <th>3</th>\n",
       "      <td>7.2</td>\n",
       "      <td>0.230</td>\n",
       "      <td>0.32</td>\n",
       "      <td>8.5</td>\n",
       "      <td>0.058</td>\n",
       "      <td>47.0</td>\n",
       "      <td>186.0</td>\n",
       "      <td>0.99560</td>\n",
       "      <td>3.19</td>\n",
       "      <td>0.40</td>\n",
       "      <td>9.9</td>\n",
       "      <td>white</td>\n",
       "      <td>B</td>\n",
       "    </tr>\n",
       "    <tr>\n",
       "      <th>4</th>\n",
       "      <td>7.2</td>\n",
       "      <td>0.230</td>\n",
       "      <td>0.32</td>\n",
       "      <td>8.5</td>\n",
       "      <td>0.058</td>\n",
       "      <td>47.0</td>\n",
       "      <td>186.0</td>\n",
       "      <td>0.99560</td>\n",
       "      <td>3.19</td>\n",
       "      <td>0.40</td>\n",
       "      <td>9.9</td>\n",
       "      <td>white</td>\n",
       "      <td>B</td>\n",
       "    </tr>\n",
       "    <tr>\n",
       "      <th>5</th>\n",
       "      <td>6.2</td>\n",
       "      <td>0.600</td>\n",
       "      <td>0.08</td>\n",
       "      <td>2.0</td>\n",
       "      <td>0.090</td>\n",
       "      <td>32.0</td>\n",
       "      <td>44.0</td>\n",
       "      <td>0.99490</td>\n",
       "      <td>3.45</td>\n",
       "      <td>0.58</td>\n",
       "      <td>10.5</td>\n",
       "      <td>red</td>\n",
       "      <td>C</td>\n",
       "    </tr>\n",
       "    <tr>\n",
       "      <th>6</th>\n",
       "      <td>5.9</td>\n",
       "      <td>0.550</td>\n",
       "      <td>0.10</td>\n",
       "      <td>2.2</td>\n",
       "      <td>0.062</td>\n",
       "      <td>39.0</td>\n",
       "      <td>51.0</td>\n",
       "      <td>0.99512</td>\n",
       "      <td>3.52</td>\n",
       "      <td>0.76</td>\n",
       "      <td>11.2</td>\n",
       "      <td>red</td>\n",
       "      <td>B</td>\n",
       "    </tr>\n",
       "    <tr>\n",
       "      <th>7</th>\n",
       "      <td>6.3</td>\n",
       "      <td>0.510</td>\n",
       "      <td>0.13</td>\n",
       "      <td>2.3</td>\n",
       "      <td>0.076</td>\n",
       "      <td>29.0</td>\n",
       "      <td>40.0</td>\n",
       "      <td>0.99574</td>\n",
       "      <td>3.42</td>\n",
       "      <td>0.75</td>\n",
       "      <td>11.0</td>\n",
       "      <td>red</td>\n",
       "      <td>B</td>\n",
       "    </tr>\n",
       "    <tr>\n",
       "      <th>8</th>\n",
       "      <td>5.9</td>\n",
       "      <td>0.645</td>\n",
       "      <td>0.12</td>\n",
       "      <td>2.0</td>\n",
       "      <td>0.075</td>\n",
       "      <td>32.0</td>\n",
       "      <td>44.0</td>\n",
       "      <td>0.99547</td>\n",
       "      <td>3.57</td>\n",
       "      <td>0.71</td>\n",
       "      <td>10.2</td>\n",
       "      <td>red</td>\n",
       "      <td>C</td>\n",
       "    </tr>\n",
       "    <tr>\n",
       "      <th>9</th>\n",
       "      <td>6.0</td>\n",
       "      <td>0.310</td>\n",
       "      <td>0.47</td>\n",
       "      <td>3.6</td>\n",
       "      <td>0.067</td>\n",
       "      <td>18.0</td>\n",
       "      <td>42.0</td>\n",
       "      <td>0.99549</td>\n",
       "      <td>3.39</td>\n",
       "      <td>0.66</td>\n",
       "      <td>11.0</td>\n",
       "      <td>red</td>\n",
       "      <td>B</td>\n",
       "    </tr>\n",
       "  </tbody>\n",
       "</table>\n",
       "</div>"
      ]
     },
     "execution_count": 64,
     "metadata": {},
     "output_type": "execute_result"
    }
   ],
   "execution_count": 64
  },
  {
   "metadata": {},
   "cell_type": "markdown",
   "source": "### Visualisations",
   "id": "aa52df027f69978"
  },
  {
   "metadata": {},
   "cell_type": "markdown",
   "source": "``target`` counts",
   "id": "d9d4ade43478bb4a"
  },
  {
   "metadata": {
    "ExecuteTime": {
     "end_time": "2025-09-25T09:45:15.404307100Z",
     "start_time": "2025-09-25T09:08:17.874923Z"
    }
   },
   "cell_type": "code",
   "source": [
    "target_counts = joined_df['target'].value_counts()\n",
    "plt.bar(target_counts.keys(), target_counts)"
   ],
   "id": "f87f0348422a5566",
   "outputs": [
    {
     "data": {
      "text/plain": [
       "<BarContainer object of 5 artists>"
      ]
     },
     "execution_count": 65,
     "metadata": {},
     "output_type": "execute_result"
    },
    {
     "data": {
      "text/plain": [
       "<Figure size 640x480 with 1 Axes>"
      ],
      "image/png": "[encoded data removed]"
     },
     "metadata": {},
     "output_type": "display_data"
    }
   ],
   "execution_count": 65
  },
  {
   "metadata": {},
   "cell_type": "markdown",
   "source": "Histograms of features",
   "id": "bebf8395456a7c8"
  },
  {
   "metadata": {
    "ExecuteTime": {
     "end_time": "2025-09-25T09:45:15.405308500Z",
     "start_time": "2025-09-25T09:08:17.996129Z"
    }
   },
   "cell_type": "code",
   "source": [
    "fig, ax = plt.subplots(3,4, figsize=(14,8))\n",
    "for i in range(3):\n",
    "    for j in range(4):\n",
    "        col = joined_df.columns[i*4+j]\n",
    "        if col == 'wine_type':\n",
    "            continue\n",
    "        ax[i][j].hist(joined_df[col].dropna(), bins=40)\n",
    "        ax[i][j].set_title(col)\n",
    "wine_type_counts = joined_df['wine_type'].value_counts()\n",
    "ax[2][3].bar(wine_type_counts.keys(), wine_type_counts)\n",
    "fig.tight_layout()\n",
    "plt.show()"
   ],
   "id": "d7586ca442997072",
   "outputs": [
    {
     "data": {
      "text/plain": [
       "<Figure size 1400x800 with 12 Axes>"
      ],
      "image/png": "[encoded data removed]"
     },
     "metadata": {},
     "output_type": "display_data"
    }
   ],
   "execution_count": 66
  },
  {
   "metadata": {},
   "cell_type": "markdown",
   "source": "### Scatter plot",
   "id": "2c31001fcf79b34a"
  },
  {
   "metadata": {},
   "cell_type": "markdown",
   "source": [
    "first let's do correlation test with ``target``\n",
    "\n",
    "for that we will do wine type encoding and transform ``target`` to ordinal int"
   ],
   "id": "e2dd1ed3c715ee67"
  },
  {
   "metadata": {
    "ExecuteTime": {
     "end_time": "2025-09-25T09:45:15.405308500Z",
     "start_time": "2025-09-25T09:08:19.650138Z"
    }
   },
   "cell_type": "code",
   "source": "joined_df.corr()",
   "id": "db2140e4e57ca2f6",
   "outputs": [
    {
     "ename": "ValueError",
     "evalue": "could not convert string to float: 'white'",
     "output_type": "error",
     "traceback": [
      "\u001B[31m---------------------------------------------------------------------------\u001B[39m",
      "\u001B[31mValueError\u001B[39m                                Traceback (most recent call last)",
      "\u001B[36mCell\u001B[39m\u001B[36m \u001B[39m\u001B[32mIn[67]\u001B[39m\u001B[32m, line 1\u001B[39m\n\u001B[32m----> \u001B[39m\u001B[32m1\u001B[39m \u001B[43mjoined_df\u001B[49m\u001B[43m.\u001B[49m\u001B[43mcorr\u001B[49m\u001B[43m(\u001B[49m\u001B[43m)\u001B[49m\n",
      "\u001B[36mFile \u001B[39m\u001B[32m~\\anaconda3\\envs\\ds\\Lib\\site-packages\\pandas\\core\\frame.py:11056\u001B[39m, in \u001B[36mDataFrame.corr\u001B[39m\u001B[34m(self, method, min_periods, numeric_only)\u001B[39m\n\u001B[32m  11054\u001B[39m cols = data.columns\n\u001B[32m  11055\u001B[39m idx = cols.copy()\n\u001B[32m> \u001B[39m\u001B[32m11056\u001B[39m mat = \u001B[43mdata\u001B[49m\u001B[43m.\u001B[49m\u001B[43mto_numpy\u001B[49m\u001B[43m(\u001B[49m\u001B[43mdtype\u001B[49m\u001B[43m=\u001B[49m\u001B[38;5;28;43mfloat\u001B[39;49m\u001B[43m,\u001B[49m\u001B[43m \u001B[49m\u001B[43mna_value\u001B[49m\u001B[43m=\u001B[49m\u001B[43mnp\u001B[49m\u001B[43m.\u001B[49m\u001B[43mnan\u001B[49m\u001B[43m,\u001B[49m\u001B[43m \u001B[49m\u001B[43mcopy\u001B[49m\u001B[43m=\u001B[49m\u001B[38;5;28;43;01mFalse\u001B[39;49;00m\u001B[43m)\u001B[49m\n\u001B[32m  11058\u001B[39m \u001B[38;5;28;01mif\u001B[39;00m method == \u001B[33m\"\u001B[39m\u001B[33mpearson\u001B[39m\u001B[33m\"\u001B[39m:\n\u001B[32m  11059\u001B[39m     correl = libalgos.nancorr(mat, minp=min_periods)\n",
      "\u001B[36mFile \u001B[39m\u001B[32m~\\anaconda3\\envs\\ds\\Lib\\site-packages\\pandas\\core\\frame.py:1998\u001B[39m, in \u001B[36mDataFrame.to_numpy\u001B[39m\u001B[34m(self, dtype, copy, na_value)\u001B[39m\n\u001B[32m   1996\u001B[39m \u001B[38;5;28;01mif\u001B[39;00m dtype \u001B[38;5;129;01mis\u001B[39;00m \u001B[38;5;129;01mnot\u001B[39;00m \u001B[38;5;28;01mNone\u001B[39;00m:\n\u001B[32m   1997\u001B[39m     dtype = np.dtype(dtype)\n\u001B[32m-> \u001B[39m\u001B[32m1998\u001B[39m result = \u001B[38;5;28;43mself\u001B[39;49m\u001B[43m.\u001B[49m\u001B[43m_mgr\u001B[49m\u001B[43m.\u001B[49m\u001B[43mas_array\u001B[49m\u001B[43m(\u001B[49m\u001B[43mdtype\u001B[49m\u001B[43m=\u001B[49m\u001B[43mdtype\u001B[49m\u001B[43m,\u001B[49m\u001B[43m \u001B[49m\u001B[43mcopy\u001B[49m\u001B[43m=\u001B[49m\u001B[43mcopy\u001B[49m\u001B[43m,\u001B[49m\u001B[43m \u001B[49m\u001B[43mna_value\u001B[49m\u001B[43m=\u001B[49m\u001B[43mna_value\u001B[49m\u001B[43m)\u001B[49m\n\u001B[32m   1999\u001B[39m \u001B[38;5;28;01mif\u001B[39;00m result.dtype \u001B[38;5;129;01mis\u001B[39;00m \u001B[38;5;129;01mnot\u001B[39;00m dtype:\n\u001B[32m   2000\u001B[39m     result = np.asarray(result, dtype=dtype)\n",
      "\u001B[36mFile \u001B[39m\u001B[32m~\\anaconda3\\envs\\ds\\Lib\\site-packages\\pandas\\core\\internals\\managers.py:1694\u001B[39m, in \u001B[36mBlockManager.as_array\u001B[39m\u001B[34m(self, dtype, copy, na_value)\u001B[39m\n\u001B[32m   1692\u001B[39m         arr.flags.writeable = \u001B[38;5;28;01mFalse\u001B[39;00m\n\u001B[32m   1693\u001B[39m \u001B[38;5;28;01melse\u001B[39;00m:\n\u001B[32m-> \u001B[39m\u001B[32m1694\u001B[39m     arr = \u001B[38;5;28;43mself\u001B[39;49m\u001B[43m.\u001B[49m\u001B[43m_interleave\u001B[49m\u001B[43m(\u001B[49m\u001B[43mdtype\u001B[49m\u001B[43m=\u001B[49m\u001B[43mdtype\u001B[49m\u001B[43m,\u001B[49m\u001B[43m \u001B[49m\u001B[43mna_value\u001B[49m\u001B[43m=\u001B[49m\u001B[43mna_value\u001B[49m\u001B[43m)\u001B[49m\n\u001B[32m   1695\u001B[39m     \u001B[38;5;66;03m# The underlying data was copied within _interleave, so no need\u001B[39;00m\n\u001B[32m   1696\u001B[39m     \u001B[38;5;66;03m# to further copy if copy=True or setting na_value\u001B[39;00m\n\u001B[32m   1698\u001B[39m \u001B[38;5;28;01mif\u001B[39;00m na_value \u001B[38;5;129;01mis\u001B[39;00m lib.no_default:\n",
      "\u001B[36mFile \u001B[39m\u001B[32m~\\anaconda3\\envs\\ds\\Lib\\site-packages\\pandas\\core\\internals\\managers.py:1753\u001B[39m, in \u001B[36mBlockManager._interleave\u001B[39m\u001B[34m(self, dtype, na_value)\u001B[39m\n\u001B[32m   1751\u001B[39m     \u001B[38;5;28;01melse\u001B[39;00m:\n\u001B[32m   1752\u001B[39m         arr = blk.get_values(dtype)\n\u001B[32m-> \u001B[39m\u001B[32m1753\u001B[39m     \u001B[43mresult\u001B[49m\u001B[43m[\u001B[49m\u001B[43mrl\u001B[49m\u001B[43m.\u001B[49m\u001B[43mindexer\u001B[49m\u001B[43m]\u001B[49m = arr\n\u001B[32m   1754\u001B[39m     itemmask[rl.indexer] = \u001B[32m1\u001B[39m\n\u001B[32m   1756\u001B[39m \u001B[38;5;28;01mif\u001B[39;00m \u001B[38;5;129;01mnot\u001B[39;00m itemmask.all():\n",
      "\u001B[31mValueError\u001B[39m: could not convert string to float: 'white'"
     ]
    }
   ],
   "execution_count": 67
  },
  {
   "metadata": {},
   "cell_type": "code",
   "outputs": [],
   "execution_count": null,
   "source": "",
   "id": "265a9014a491c2f8"
  }
 ],
 "metadata": {
  "kernelspec": {
   "display_name": "Python 3",
   "language": "python",
   "name": "python3"
  },
  "language_info": {
   "codemirror_mode": {
    "name": "ipython",
    "version": 2
   },
   "file_extension": ".py",
   "mimetype": "text/x-python",
   "name": "python",
   "nbconvert_exporter": "python",
   "pygments_lexer": "ipython2",
   "version": "2.7.6"
  }
 },
 "nbformat": 4,
 "nbformat_minor": 5
}
